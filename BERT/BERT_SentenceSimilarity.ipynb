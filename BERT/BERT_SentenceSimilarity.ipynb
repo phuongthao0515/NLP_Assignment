{
 "cells": [
  {
   "cell_type": "markdown",
   "id": "7a0b635d",
   "metadata": {},
   "source": [
    "### BERT - TASK: SENTENCE SIMILARITY"
   ]
  },
  {
   "cell_type": "code",
   "execution_count": 31,
   "id": "77f20180",
   "metadata": {},
   "outputs": [],
   "source": [
    "from datasets import load_dataset\n",
    "from transformers import (\n",
    "    AutoTokenizer,\n",
    "    AutoModelForSequenceClassification,\n",
    "    Trainer,\n",
    "    TrainingArguments,\n",
    "    DataCollatorWithPadding,\n",
    "    EarlyStoppingCallback\n",
    ")\n",
    "from sklearn.metrics import mean_squared_error\n",
    "import numpy as np\n",
    "import torch\n",
    "\n"
   ]
  },
  {
   "cell_type": "markdown",
   "id": "6bac6a99",
   "metadata": {},
   "source": [
    "### DATA PREPROCESSING"
   ]
  },
  {
   "cell_type": "code",
   "execution_count": 32,
   "id": "a74a3397",
   "metadata": {},
   "outputs": [
    {
     "data": {
      "application/vnd.jupyter.widget-view+json": {
       "model_id": "a02d345c3a2741e8b5d5138ef7db319f",
       "version_major": 2,
       "version_minor": 0
      },
      "text/plain": [
       "Map:   0%|          | 0/1379 [00:00<?, ? examples/s]"
      ]
     },
     "metadata": {},
     "output_type": "display_data"
    }
   ],
   "source": [
    "dataset = load_dataset(\"glue\", \"stsb\")\n",
    "tokenizer = AutoTokenizer.from_pretrained(\"bert-base-uncased\")\n",
    "\n",
    "def preprocess(example):\n",
    "    return tokenizer(example[\"sentence1\"], example[\"sentence2\"], truncation=True)\n",
    "\n",
    "dataset = dataset.map(preprocess, batched=True)\n",
    "dataset = dataset.rename_column(\"label\", \"labels\")\n",
    "dataset.set_format(type=\"torch\", columns=[\"input_ids\", \"attention_mask\", \"labels\"])\n"
   ]
  },
  {
   "cell_type": "code",
   "execution_count": 33,
   "id": "b9a7c1e0",
   "metadata": {},
   "outputs": [],
   "source": [
    "def compute_metrics(eval_pred):\n",
    "    preds, labels = eval_pred\n",
    "    return {\n",
    "        \"pearson\": np.corrcoef(preds[:, 0], labels)[0, 1],\n",
    "        # \"mse\": mean_squared_error(labels, preds[:, 0]),\n",
    "    }\n",
    "\n",
    "# TrainingArguments factory\n",
    "def get_args(run_name):\n",
    "    return TrainingArguments(\n",
    "        output_dir=f\"./{run_name}\",\n",
    "        eval_strategy=\"epoch\",\n",
    "        save_strategy=\"epoch\",\n",
    "        save_total_limit=2,\n",
    "        load_best_model_at_end=True,\n",
    "        metric_for_best_model=\"eval_pearson\",\n",
    "        greater_is_better=True,\n",
    "        per_device_train_batch_size=16,\n",
    "        per_device_eval_batch_size=64,\n",
    "        learning_rate=2e-5,\n",
    "        num_train_epochs=10,\n",
    "        weight_decay=0.01,\n",
    "        logging_dir=f\"./logs/{run_name}\",\n",
    "        report_to=\"none\",\n",
    "        run_name=run_name\n",
    "    )\n",
    "\n",
    "data_collator = DataCollatorWithPadding(tokenizer=tokenizer)\n"
   ]
  },
  {
   "cell_type": "markdown",
   "id": "827f5550",
   "metadata": {},
   "source": [
    "### Standard Fine-Tuning"
   ]
  },
  {
   "cell_type": "code",
   "execution_count": 34,
   "id": "f6ec59f3",
   "metadata": {},
   "outputs": [
    {
     "name": "stderr",
     "output_type": "stream",
     "text": [
      "Some weights of BertForSequenceClassification were not initialized from the model checkpoint at bert-base-uncased and are newly initialized: ['classifier.bias', 'classifier.weight']\n",
      "You should probably TRAIN this model on a down-stream task to be able to use it for predictions and inference.\n",
      "C:\\Users\\Admin\\AppData\\Local\\Temp\\ipykernel_21104\\3910195914.py:6: FutureWarning: `tokenizer` is deprecated and will be removed in version 5.0.0 for `Trainer.__init__`. Use `processing_class` instead.\n",
      "  trainer_std = Trainer(\n"
     ]
    },
    {
     "data": {
      "text/html": [
       "\n",
       "    <div>\n",
       "      \n",
       "      <progress value='1440' max='3600' style='width:300px; height:20px; vertical-align: middle;'></progress>\n",
       "      [1440/3600 03:29 < 05:13, 6.88 it/s, Epoch 4/10]\n",
       "    </div>\n",
       "    <table border=\"1\" class=\"dataframe\">\n",
       "  <thead>\n",
       " <tr style=\"text-align: left;\">\n",
       "      <th>Epoch</th>\n",
       "      <th>Training Loss</th>\n",
       "      <th>Validation Loss</th>\n",
       "      <th>Pearson</th>\n",
       "    </tr>\n",
       "  </thead>\n",
       "  <tbody>\n",
       "    <tr>\n",
       "      <td>1</td>\n",
       "      <td>No log</td>\n",
       "      <td>0.834692</td>\n",
       "      <td>0.854996</td>\n",
       "    </tr>\n",
       "    <tr>\n",
       "      <td>2</td>\n",
       "      <td>0.911900</td>\n",
       "      <td>0.640639</td>\n",
       "      <td>0.865546</td>\n",
       "    </tr>\n",
       "    <tr>\n",
       "      <td>3</td>\n",
       "      <td>0.367500</td>\n",
       "      <td>0.556502</td>\n",
       "      <td>0.869597</td>\n",
       "    </tr>\n",
       "    <tr>\n",
       "      <td>4</td>\n",
       "      <td>0.367500</td>\n",
       "      <td>0.625850</td>\n",
       "      <td>0.866678</td>\n",
       "    </tr>\n",
       "  </tbody>\n",
       "</table><p>"
      ],
      "text/plain": [
       "<IPython.core.display.HTML object>"
      ]
     },
     "metadata": {},
     "output_type": "display_data"
    },
    {
     "data": {
      "text/html": [
       "\n",
       "    <div>\n",
       "      \n",
       "      <progress value='24' max='24' style='width:300px; height:20px; vertical-align: middle;'></progress>\n",
       "      [24/24 00:02]\n",
       "    </div>\n",
       "    "
      ],
      "text/plain": [
       "<IPython.core.display.HTML object>"
      ]
     },
     "metadata": {},
     "output_type": "display_data"
    }
   ],
   "source": [
    "# ================================\n",
    "# 1. Standard Fine-Tuning\n",
    "# ================================\n",
    "model_std = AutoModelForSequenceClassification.from_pretrained(\"bert-base-uncased\", num_labels=1)\n",
    "\n",
    "trainer_std = Trainer(\n",
    "    model=model_std,\n",
    "    args=get_args(\"standard\"),\n",
    "    train_dataset=dataset[\"train\"],\n",
    "    eval_dataset=dataset[\"validation\"],\n",
    "    tokenizer=tokenizer,\n",
    "    data_collator=data_collator,\n",
    "    compute_metrics=compute_metrics,\n",
    "    callbacks=[EarlyStoppingCallback()]\n",
    ")\n",
    "\n",
    "trainer_std.train()\n",
    "result_std = trainer_std.evaluate()\n"
   ]
  },
  {
   "cell_type": "markdown",
   "id": "905b73ca",
   "metadata": {},
   "source": [
    "### Layer-wise Learning Rate Decay"
   ]
  },
  {
   "cell_type": "code",
   "execution_count": 35,
   "id": "a8eb4919",
   "metadata": {},
   "outputs": [
    {
     "name": "stderr",
     "output_type": "stream",
     "text": [
      "Some weights of BertForSequenceClassification were not initialized from the model checkpoint at bert-base-uncased and are newly initialized: ['classifier.bias', 'classifier.weight']\n",
      "You should probably TRAIN this model on a down-stream task to be able to use it for predictions and inference.\n",
      "C:\\Users\\Admin\\AppData\\Local\\Temp\\ipykernel_21104\\335493475.py:24: FutureWarning: `tokenizer` is deprecated and will be removed in version 5.0.0 for `Trainer.__init__`. Use `processing_class` instead.\n",
      "  trainer_llrd = Trainer(\n"
     ]
    },
    {
     "data": {
      "text/html": [
       "\n",
       "    <div>\n",
       "      \n",
       "      <progress value='1800' max='3600' style='width:300px; height:20px; vertical-align: middle;'></progress>\n",
       "      [1800/3600 04:17 < 04:17, 6.98 it/s, Epoch 5/10]\n",
       "    </div>\n",
       "    <table border=\"1\" class=\"dataframe\">\n",
       "  <thead>\n",
       " <tr style=\"text-align: left;\">\n",
       "      <th>Epoch</th>\n",
       "      <th>Training Loss</th>\n",
       "      <th>Validation Loss</th>\n",
       "      <th>Pearson</th>\n",
       "    </tr>\n",
       "  </thead>\n",
       "  <tbody>\n",
       "    <tr>\n",
       "      <td>1</td>\n",
       "      <td>No log</td>\n",
       "      <td>0.681254</td>\n",
       "      <td>0.836250</td>\n",
       "    </tr>\n",
       "    <tr>\n",
       "      <td>2</td>\n",
       "      <td>1.407500</td>\n",
       "      <td>0.630779</td>\n",
       "      <td>0.852090</td>\n",
       "    </tr>\n",
       "    <tr>\n",
       "      <td>3</td>\n",
       "      <td>0.528400</td>\n",
       "      <td>0.613193</td>\n",
       "      <td>0.858501</td>\n",
       "    </tr>\n",
       "    <tr>\n",
       "      <td>4</td>\n",
       "      <td>0.528400</td>\n",
       "      <td>0.594928</td>\n",
       "      <td>0.859213</td>\n",
       "    </tr>\n",
       "    <tr>\n",
       "      <td>5</td>\n",
       "      <td>0.369200</td>\n",
       "      <td>0.617551</td>\n",
       "      <td>0.856618</td>\n",
       "    </tr>\n",
       "  </tbody>\n",
       "</table><p>"
      ],
      "text/plain": [
       "<IPython.core.display.HTML object>"
      ]
     },
     "metadata": {},
     "output_type": "display_data"
    },
    {
     "data": {
      "text/html": [
       "\n",
       "    <div>\n",
       "      \n",
       "      <progress value='24' max='24' style='width:300px; height:20px; vertical-align: middle;'></progress>\n",
       "      [24/24 00:02]\n",
       "    </div>\n",
       "    "
      ],
      "text/plain": [
       "<IPython.core.display.HTML object>"
      ]
     },
     "metadata": {},
     "output_type": "display_data"
    }
   ],
   "source": [
    "# ================================\n",
    "# 2. Layer-wise Learning Rate Decay\n",
    "# ================================\n",
    "model_llrd = AutoModelForSequenceClassification.from_pretrained(\"bert-base-uncased\", num_labels=1)\n",
    "\n",
    "# LLRD Optimizer Setup\n",
    "def get_llrd_optimizer(model, base_lr=2e-5, decay=0.9):\n",
    "    layers = [model.bert.embeddings] + list(model.bert.encoder.layer)\n",
    "    opt_params = []\n",
    "    for i, layer in enumerate(layers):\n",
    "        lr = base_lr * (decay ** (len(layers) - i))\n",
    "        opt_params.append({\n",
    "            \"params\": layer.parameters(),\n",
    "            \"lr\": lr\n",
    "        })\n",
    "    opt_params.append({\n",
    "        \"params\": model.classifier.parameters(),\n",
    "        \"lr\": base_lr\n",
    "    })\n",
    "    return torch.optim.AdamW(opt_params)\n",
    "\n",
    "optimizer_llrd = get_llrd_optimizer(model_llrd)\n",
    "\n",
    "trainer_llrd = Trainer(\n",
    "    model=model_llrd,\n",
    "    args=get_args(\"llrd\"),\n",
    "    train_dataset=dataset[\"train\"],\n",
    "    eval_dataset=dataset[\"validation\"],\n",
    "    tokenizer=tokenizer,\n",
    "    data_collator=data_collator,\n",
    "    compute_metrics=compute_metrics,\n",
    "    callbacks=[EarlyStoppingCallback()],\n",
    "    optimizers=(optimizer_llrd, None)\n",
    ")\n",
    "\n",
    "trainer_llrd.train()\n",
    "result_llrd = trainer_llrd.evaluate()\n"
   ]
  },
  {
   "cell_type": "markdown",
   "id": "da00b3f0",
   "metadata": {},
   "source": [
    "### Freeze Lower BERT Layers"
   ]
  },
  {
   "cell_type": "code",
   "execution_count": 36,
   "id": "ac81135c",
   "metadata": {},
   "outputs": [
    {
     "name": "stderr",
     "output_type": "stream",
     "text": [
      "Some weights of BertForSequenceClassification were not initialized from the model checkpoint at bert-base-uncased and are newly initialized: ['classifier.bias', 'classifier.weight']\n",
      "You should probably TRAIN this model on a down-stream task to be able to use it for predictions and inference.\n",
      "C:\\Users\\Admin\\AppData\\Local\\Temp\\ipykernel_21104\\2009174858.py:12: FutureWarning: `tokenizer` is deprecated and will be removed in version 5.0.0 for `Trainer.__init__`. Use `processing_class` instead.\n",
      "  trainer_freeze = Trainer(\n"
     ]
    },
    {
     "data": {
      "text/html": [
       "\n",
       "    <div>\n",
       "      \n",
       "      <progress value='1440' max='3600' style='width:300px; height:20px; vertical-align: middle;'></progress>\n",
       "      [1440/3600 03:02 < 04:34, 7.87 it/s, Epoch 4/10]\n",
       "    </div>\n",
       "    <table border=\"1\" class=\"dataframe\">\n",
       "  <thead>\n",
       " <tr style=\"text-align: left;\">\n",
       "      <th>Epoch</th>\n",
       "      <th>Training Loss</th>\n",
       "      <th>Validation Loss</th>\n",
       "      <th>Pearson</th>\n",
       "    </tr>\n",
       "  </thead>\n",
       "  <tbody>\n",
       "    <tr>\n",
       "      <td>1</td>\n",
       "      <td>No log</td>\n",
       "      <td>0.798860</td>\n",
       "      <td>0.829452</td>\n",
       "    </tr>\n",
       "    <tr>\n",
       "      <td>2</td>\n",
       "      <td>1.213400</td>\n",
       "      <td>0.834619</td>\n",
       "      <td>0.842361</td>\n",
       "    </tr>\n",
       "    <tr>\n",
       "      <td>3</td>\n",
       "      <td>0.536200</td>\n",
       "      <td>0.638539</td>\n",
       "      <td>0.851647</td>\n",
       "    </tr>\n",
       "    <tr>\n",
       "      <td>4</td>\n",
       "      <td>0.536200</td>\n",
       "      <td>0.715231</td>\n",
       "      <td>0.840921</td>\n",
       "    </tr>\n",
       "  </tbody>\n",
       "</table><p>"
      ],
      "text/plain": [
       "<IPython.core.display.HTML object>"
      ]
     },
     "metadata": {},
     "output_type": "display_data"
    },
    {
     "data": {
      "text/html": [
       "\n",
       "    <div>\n",
       "      \n",
       "      <progress value='24' max='24' style='width:300px; height:20px; vertical-align: middle;'></progress>\n",
       "      [24/24 00:02]\n",
       "    </div>\n",
       "    "
      ],
      "text/plain": [
       "<IPython.core.display.HTML object>"
      ]
     },
     "metadata": {},
     "output_type": "display_data"
    }
   ],
   "source": [
    "# ================================\n",
    "# 3. Freeze Lower BERT Layers\n",
    "# ================================\n",
    "def freeze_bert_layers(model, freeze_until=6):\n",
    "    for name, param in model.bert.named_parameters():\n",
    "        if any(f\"encoder.layer.{i}.\" in name for i in range(freeze_until)):\n",
    "            param.requires_grad = False\n",
    "\n",
    "model_freeze = AutoModelForSequenceClassification.from_pretrained(\"bert-base-uncased\", num_labels=1)\n",
    "freeze_bert_layers(model_freeze)\n",
    "\n",
    "trainer_freeze = Trainer(\n",
    "    model=model_freeze,\n",
    "    args=get_args(\"freeze\"),\n",
    "    train_dataset=dataset[\"train\"],\n",
    "    eval_dataset=dataset[\"validation\"],\n",
    "    tokenizer=tokenizer,\n",
    "    data_collator=data_collator,\n",
    "    compute_metrics=compute_metrics,\n",
    "    callbacks=[EarlyStoppingCallback()]\n",
    ")\n",
    "\n",
    "trainer_freeze.train()\n",
    "result_freeze = trainer_freeze.evaluate()\n"
   ]
  },
  {
   "cell_type": "markdown",
   "id": "285a000e",
   "metadata": {},
   "source": [
    "### Inference: Predict Similarity"
   ]
  },
  {
   "cell_type": "code",
   "execution_count": 37,
   "id": "bfa0ea8d",
   "metadata": {},
   "outputs": [
    {
     "name": "stdout",
     "output_type": "stream",
     "text": [
      "Similarity between: 'A man is eating food.' and 'A person is consuming a meal.' -> 2.1137\n"
     ]
    }
   ],
   "source": [
    "# ================================\n",
    "# Inference: Predict Similarity\n",
    "# ================================\n",
    "def predict_similarity(sentence1, sentence2, model, tokenizer):\n",
    "    device = next(model.parameters()).device  # get model's device (cuda or cpu)\n",
    "\n",
    "    # Tokenize and move inputs to the same device as model\n",
    "    inputs = tokenizer(sentence1, sentence2, return_tensors=\"pt\", truncation=True, padding=True)\n",
    "    inputs = {key: val.to(device) for key, val in inputs.items()}\n",
    "\n",
    "    model.eval()\n",
    "    with torch.no_grad():\n",
    "        logits = model(**inputs).logits\n",
    "\n",
    "    return logits.item()\n",
    "\n",
    "# Example\n",
    "s1 = \"A man is eating food.\"\n",
    "s2 = \"A person is consuming a meal.\"\n",
    "similarity_score = predict_similarity(s1, s2, model_std, tokenizer)\n",
    "print(f\"Similarity between: '{s1}' and '{s2}' -> {similarity_score:.4f}\")\n"
   ]
  },
  {
   "cell_type": "markdown",
   "id": "5ec47674",
   "metadata": {},
   "source": [
    "### Summary table"
   ]
  },
  {
   "cell_type": "code",
   "execution_count": 39,
   "id": "5005f094",
   "metadata": {},
   "outputs": [
    {
     "name": "stdout",
     "output_type": "stream",
     "text": [
      "\\nFine-tuning techniques comparison:\n",
      "Technique        Pearson Correlation\n",
      "-------------  ---------------------\n",
      "Standard                      0.8696\n",
      "LLRD                          0.8592\n",
      "Freeze Layers                 0.8516\n"
     ]
    }
   ],
   "source": [
    "# Summary table with tabulate\n",
    "from tabulate import tabulate\n",
    "\n",
    "results = [\n",
    "    [\"Standard\", result_std[\"eval_pearson\"]],\n",
    "    [\"LLRD\", result_llrd[\"eval_pearson\"]],\n",
    "    [\"Freeze Layers\", result_freeze[\"eval_pearson\"]],\n",
    "]\n",
    "\n",
    "print(\"\\\\nFine-tuning techniques comparison:\")\n",
    "print(tabulate(results, headers=[\"Technique\", \"Pearson Correlation\"], floatfmt=\".4f\"))\n"
   ]
  },
  {
   "cell_type": "markdown",
   "id": "37686824",
   "metadata": {},
   "source": [
    "### CONCLUSION"
   ]
  },
  {
   "cell_type": "markdown",
   "id": "6c6cd163",
   "metadata": {},
   "source": [
    "We compare three fine-tuning strategies for BERT on a sentence similarity task using Pearson Correlation as the evaluation metric.\n",
    "\n",
    "- **Standard fine-tuning** achieves the best performance with a Pearson correlation of **0.8696**.\n",
    "- **LLRD (Layer-wise Learning Rate Decay)** comes slightly behind at **0.8592**, showing competitive results while potentially improving training stability and efficiency.\n",
    "- **Freeze Layers** yields the lowest correlation, **0.8516**, likely due to limited capacity to adapt the model to task-specific features.\n",
    "\n",
    "### Conclusion:\n",
    "Full fine-tuning (Standard) is the most effective approach for sentence similarity tasks using BERT.  \n",
    "LLRD is a reasonable alternative when balancing performance with training efficiency.  \n",
    "Freezing layers may be suitable in low-resource settings, but comes at the cost of reduced accuracy."
   ]
  }
 ],
 "metadata": {
  "kernelspec": {
   "display_name": "Python 3",
   "language": "python",
   "name": "python3"
  },
  "language_info": {
   "codemirror_mode": {
    "name": "ipython",
    "version": 3
   },
   "file_extension": ".py",
   "mimetype": "text/x-python",
   "name": "python",
   "nbconvert_exporter": "python",
   "pygments_lexer": "ipython3",
   "version": "3.12.9"
  }
 },
 "nbformat": 4,
 "nbformat_minor": 5
}
